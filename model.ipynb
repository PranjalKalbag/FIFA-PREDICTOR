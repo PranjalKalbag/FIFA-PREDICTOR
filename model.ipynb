{
 "cells": [
  {
   "cell_type": "code",
   "execution_count": 30,
   "metadata": {},
   "outputs": [],
   "source": [
    "import numpy as np\n",
    "import pandas as pd\n",
    "import matplotlib.pyplot as plt"
   ]
  },
  {
   "cell_type": "code",
   "execution_count": 3,
   "metadata": {},
   "outputs": [],
   "source": [
    "dataset = pd.read_csv(\"FullData.csv\")\n",
    "y = dataset.iloc[:,9].values\n",
    "#dataset.Height = dataset.Height.str.replace(\" Kg\",\"\").astype(\"float\")\n",
    "#dataset.Weight = dataset.Weight.str.replace(\" cm\",\"\").astype(\"float\")\n",
    "\n",
    "dataset = dataset.drop(['Name','Nationality','National_Position','National_Kit','Club','Club_Position','Club_Kit','Contract_Expiry','Birth_Date','Preffered_Position','Work_Rate','Height','Weight',\"Club_Joining\"], axis = 1)\n",
    "names = dataset.iloc[:,0].values\n",
    "pos = dataset.iloc[:,5].values\n",
    "X = clean_dataset.iloc[:,1:].values"
   ]
  },
  {
   "cell_type": "code",
   "execution_count": 4,
   "metadata": {},
   "outputs": [],
   "source": [
    "from sklearn.preprocessing import LabelEncoder, OneHotEncoder\n",
    "le = LabelEncoder()\n",
    "X[:,0] = le.fit_transform(X[:,0])\n"
   ]
  },
  {
   "cell_type": "code",
   "execution_count": 5,
   "metadata": {},
   "outputs": [],
   "source": [
    "from sklearn.compose import ColumnTransformer\n",
    "\n",
    "ct = ColumnTransformer(\n",
    "    [('one_hot_encoder', OneHotEncoder(categories='auto'), [0])],   # The column numbers to be transformed (here is [0] but can be [0, 1, 3])\n",
    "    remainder='passthrough'                                         # Leave the rest of the columns untouched\n",
    ")\n",
    "X = ct.fit_transform(X)"
   ]
  },
  {
   "cell_type": "code",
   "execution_count": 6,
   "metadata": {},
   "outputs": [],
   "source": [
    "from sklearn.preprocessing import StandardScaler\n",
    "sc = StandardScaler()\n",
    "X = sc.fit_transform(X)\n"
   ]
  },
  {
   "cell_type": "code",
   "execution_count": 7,
   "metadata": {},
   "outputs": [
    {
     "output_type": "execute_result",
     "data": {
      "text/plain": "LinearRegression(copy_X=True, fit_intercept=True, n_jobs=None, normalize=False)"
     },
     "metadata": {},
     "execution_count": 7
    }
   ],
   "source": [
    "from sklearn.linear_model import LinearRegression\n",
    "model = LinearRegression()\n",
    "model.fit(X,y)"
   ]
  },
  {
   "cell_type": "code",
   "execution_count": 8,
   "metadata": {},
   "outputs": [],
   "source": [
    "y_pred = model.predict(X)"
   ]
  },
  {
   "cell_type": "code",
   "execution_count": 9,
   "metadata": {},
   "outputs": [],
   "source": [
    "compare = list(zip(y, y_pred, names, pos))\n",
    "compare.sort(reverse=True)"
   ]
  },
  {
   "cell_type": "code",
   "execution_count": 27,
   "metadata": {},
   "outputs": [
    {
     "output_type": "stream",
     "name": "stdout",
     "text": "Manuel Neuer\n\nMarcelo\n\nSergio Ramos\n\nPepe\n\nPhilipp Lahm\n\nPaul Pogba\n\nMesut Özil\n\nLuka Modrić\n\nCristiano Ronaldo\n\nLuis Suárez\n\nLionel Messi\n\n"
    }
   ],
   "source": [
    "positions = ['GK','LB','LCB','RCB','RB','LCM','CAM','RCM','LW','ST','RW']\n",
    "my_team =[]\n",
    "for i in range (11):\n",
    "    for j in range(17588):\n",
    "        if compare[j][3] == positions[i]:\n",
    "                my_team.append(compare[j][2])\n",
    "                break \n",
    "for i in my_team:\n",
    "    print(i+\"\\n\")"
   ]
  },
  {
   "cell_type": "code",
   "execution_count": null,
   "metadata": {},
   "outputs": [],
   "source": []
  }
 ],
 "metadata": {
  "language_info": {
   "codemirror_mode": {
    "name": "ipython",
    "version": 3
   },
   "file_extension": ".py",
   "mimetype": "text/x-python",
   "name": "python",
   "nbconvert_exporter": "python",
   "pygments_lexer": "ipython3",
   "version": "3.8.2-final"
  },
  "orig_nbformat": 2,
  "kernelspec": {
   "name": "python38264bitc8c8a827479a4cc89be96abd0f44c497",
   "display_name": "Python 3.8.2 64-bit"
  }
 },
 "nbformat": 4,
 "nbformat_minor": 2
}